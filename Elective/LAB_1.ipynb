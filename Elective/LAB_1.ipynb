{
 "cells": [
  {
   "cell_type": "code",
   "execution_count": 1,
   "metadata": {},
   "outputs": [],
   "source": [
    "import numpy as np\n",
    "from tabulate import tabulate\n",
    "import pandas as pd"
   ]
  },
  {
   "cell_type": "markdown",
   "metadata": {},
   "source": [
    "##### <font color='red'>Задание</font>\n",
    "\n",
    "Создать класс, реализующий функционал учета рейтинга студентов **StudentsRaiting**. Класс должен иметь конструктор, который будет принимать список студентов с результатами сданных экзаменов, реализованый в виде словаря с ключем \"ФИО студента\" и оценками по экзаменам по 4 предметам (Программирование, Дискретная математика, Иностранный язык, Философия), представленными в виде упорядоченного множества (кортежа). Например:\n",
    "\n",
    "`{\"Иванов Петр Николавич\":(3,3,5,4), \"Петров Иван Константинович\":(5,4,5,4)}`\n",
    "\n",
    "Релизовать методы: \n",
    "- добавления студента с оценками по экзаменам\n",
    "- удаления студента из рейтинга \n",
    "- получения списка студентов с рейтингом выше порогового\n",
    "- метод демонстрации работы методов класса с выводом результатов на печать в виде текстовой таблицы.\n",
    "\n",
    "Примечание:\n",
    "Рейтинг составляется по суммарному баллу по всем предметам."
   ]
  },
  {
   "cell_type": "code",
   "execution_count": 2,
   "metadata": {},
   "outputs": [
    {
     "name": "stdout",
     "output_type": "stream",
     "text": [
      "Initializing new journal:\n",
      "+----+----------------------------+--------------+\n",
      "|    | Student                    | Marks        |\n",
      "|----+----------------------------+--------------|\n",
      "|  0 | Иванов Петр Николавич      | (3, 3, 5, 4) |\n",
      "|  1 | Петров Иван Константинович | (5, 4, 5, 4) |\n",
      "|  2 | Иванов Иван Константинович | (4, 5, 3, 5) |\n",
      "|  3 | Петров Петр Николавич      | (4, 4, 3, 4) |\n",
      "+----+----------------------------+--------------+\n",
      "\n",
      "\n",
      "\n",
      "\n",
      "Adding new students:\n",
      "+----+----------------------------+--------------+\n",
      "|    | Student                    | Marks        |\n",
      "|----+----------------------------+--------------|\n",
      "|  0 | Иванов Петр Николавич      | (3, 3, 5, 4) |\n",
      "|  1 | Петров Иван Константинович | (5, 4, 5, 4) |\n",
      "|  2 | Иванов Иван Константинович | (4, 5, 3, 5) |\n",
      "|  3 | Петров Петр Николавич      | (4, 4, 3, 4) |\n",
      "|  4 | Аааа ААА Аааааа            | (5, 5, 5, 5) |\n",
      "|  5 | BBB bbb BBBBbbbb           | (2, 3, 2, 2) |\n",
      "+----+----------------------------+--------------+\n",
      "\n",
      "\n",
      "\n",
      "\n",
      "Removing student by name:\n",
      "+----+----------------------------+--------------+\n",
      "|    | Student                    | Marks        |\n",
      "|----+----------------------------+--------------|\n",
      "|  0 | Иванов Петр Николавич      | (3, 3, 5, 4) |\n",
      "|  1 | Петров Иван Константинович | (5, 4, 5, 4) |\n",
      "|  2 | Иванов Иван Константинович | (4, 5, 3, 5) |\n",
      "|  3 | Петров Петр Николавич      | (4, 4, 3, 4) |\n",
      "|  4 | BBB bbb BBBBbbbb           | (2, 3, 2, 2) |\n",
      "+----+----------------------------+--------------+\n",
      "\n",
      "\n",
      "\n",
      "\n",
      "Getting students with good rating (more than 15):\n",
      "+----+----------------------------+--------------+\n",
      "|    | Student                    | Marks        |\n",
      "|----+----------------------------+--------------|\n",
      "|  0 | Иванов Петр Николавич      | (3, 3, 5, 4) |\n",
      "|  1 | Петров Иван Константинович | (5, 4, 5, 4) |\n",
      "|  2 | Иванов Иван Константинович | (4, 5, 3, 5) |\n",
      "|  3 | Петров Петр Николавич      | (4, 4, 3, 4) |\n",
      "+----+----------------------------+--------------+\n"
     ]
    }
   ],
   "source": [
    "class StudentsRaiting:\n",
    "\n",
    "    # Constructor\n",
    "    def __init__(self, students):\n",
    "        self.students = students  \n",
    " \n",
    "\n",
    "    def printTable(self, data = None):\n",
    "        if data == None: \n",
    "            data = self.students\n",
    "        df = pd.DataFrame({'Student' : list(data.keys()),\n",
    "                       'Marks' : list(data.values())})\n",
    "        print(tabulate(df, headers='keys', tablefmt='psql'))\n",
    "   \n",
    "    def show(self):\n",
    "        print(self.students)\n",
    "        \n",
    "    def addStud(self,student):\n",
    "        if type(student) is dict:\n",
    "            self.students.update(student)\n",
    "        \n",
    "    def delStud(self,student):\n",
    "        self.students.pop(student,None)\n",
    "        \n",
    "    def getStudsWithRating(self,rating):\n",
    "        if type(rating) is not int: \n",
    "            return None\n",
    "        result = {}\n",
    "        for a,b in self.students.items():\n",
    "            if sum(b)>=rating:\n",
    "                result.update({a:b})\n",
    "        self.printTable(result)\n",
    "        \n",
    "       \n",
    "\n",
    "print(\"Initializing new journal:\")\n",
    "\n",
    "journal = StudentsRaiting({\"Иванов Петр Николавич\":(3,3,5,4),\n",
    "                     \"Петров Иван Константинович\":(5,4,5,4),\n",
    "                     \"Иванов Иван Константинович\":(4,5,3,5),\n",
    "                     \"Петров Петр Николавич\":(4,4,3,4)})  \n",
    "\n",
    "journal.printTable() \n",
    "\n",
    "\n",
    "\n",
    "print(\"\\n\\n\\n\")\n",
    "\n",
    "print(\"Adding new students:\")\n",
    "\n",
    "journal.addStud({\"Аааа ААА Аааааа\":(5,5,5,5),\n",
    "                 \"BBB bbb BBBBbbbb\":(2,3,2,2)})\n",
    "\n",
    "journal.printTable() \n",
    "\n",
    "\n",
    "\n",
    "print(\"\\n\\n\\n\")\n",
    "\n",
    "print(\"Removing student by name:\")\n",
    "\n",
    "journal.delStud(\"Аааа ААА Аааааа\")\n",
    "\n",
    "journal.printTable() \n",
    "\n",
    "\n",
    "print(\"\\n\\n\\n\")\n",
    "\n",
    "print(\"Getting students with good rating (more than 15):\")\n",
    "\n",
    "journal.getStudsWithRating(15)\n",
    "\n",
    "\n",
    "\n",
    "\n",
    "\n",
    "\n"
   ]
  },
  {
   "cell_type": "markdown",
   "metadata": {},
   "source": [
    "##### <font color=red>Задание</font>\n",
    "Создать массив значений типа `int32` размером 10х10, состоящий из равномерно распределенных случайных чисел от 0 до 100. Получить 4 копии этого массива со значениями типа `uint32`,`int64`,`uint64`,`float`. Для каждого массива вывести сведения: число размерностей, форма, размер, тип данных, размер каждого значения в байтах и размер всего массива в байтах.\n"
   ]
  },
  {
   "cell_type": "code",
   "execution_count": 3,
   "metadata": {},
   "outputs": [
    {
     "name": "stdout",
     "output_type": "stream",
     "text": [
      "+----+---------+---------+--------------+----------+--------+---------------------+-----------------+\n",
      "|    | Name    | Type    |   Dimensions | Shape    |   Size |   ItemWeight(Bytes) |   Weight(Bytes) |\n",
      "|----+---------+---------+--------------+----------+--------+---------------------+-----------------|\n",
      "|  0 | Main    | int32   |            2 | (10, 10) |    100 |                   4 |             400 |\n",
      "|  1 | Copy №1 | uint32  |            2 | (10, 10) |    100 |                   4 |             400 |\n",
      "|  2 | Copy №2 | int64   |            2 | (10, 10) |    100 |                   8 |             800 |\n",
      "|  3 | Copy №3 | uint64  |            2 | (10, 10) |    100 |                   8 |             800 |\n",
      "|  4 | Copy №4 | float64 |            2 | (10, 10) |    100 |                   8 |             800 |\n",
      "+----+---------+---------+--------------+----------+--------+---------------------+-----------------+\n"
     ]
    }
   ],
   "source": [
    "massives = ([np.random.randint(100, size=(10, 10))])\n",
    "\n",
    "massives.extend([np.array(massives[0], dtype=np.uint32),\n",
    "             np.array(massives[0], dtype=np.int64),\n",
    "             np.array(massives[0], dtype=np.uint64),\n",
    "             np.array(massives[0], dtype=np.float)])\n",
    "\n",
    "df = pd.DataFrame({'Name' : [\"Main\",\"Copy №1\",\"Copy №2\",\"Copy №3\",\"Copy №4\",],\n",
    "                   'Type' : list(map(lambda s: s.dtype, massives)),\n",
    "                   'Dimensions' : list(map(lambda s: s.ndim, massives)),\n",
    "                   'Shape' : list(map(lambda s: s.shape, massives)),\n",
    "                   'Size' : list(map(lambda s: s.size, massives)),\n",
    "                   'ItemWeight(Bytes)' : list(map(lambda s: s.itemsize, massives)),\n",
    "                   'Weight(Bytes)' : list(map(lambda s: s.nbytes, massives))})\n",
    "print(tabulate(df, headers='keys', tablefmt='psql'))"
   ]
  },
  {
   "cell_type": "markdown",
   "metadata": {},
   "source": [
    "##### <font color=red>Задание</font>\n",
    "Выполнить следующий код и объяснить результат."
   ]
  },
  {
   "cell_type": "code",
   "execution_count": 6,
   "metadata": {},
   "outputs": [
    {
     "name": "stdout",
     "output_type": "stream",
     "text": [
      "A mass: [[ 1  2  3  4]\n",
      " [ 5  6  7  8]\n",
      " [ 9 10 11 12]]\n",
      "col_r1, col_r1.shape: \n",
      " [ 2  6 10] (3,)\n",
      "\n",
      "col_r2, col_r2.shape: \n",
      " [[ 2]\n",
      " [ 6]\n",
      " [10]] (3, 1)\n"
     ]
    }
   ],
   "source": [
    "# Create the following rank 2 array with shape (3, 4)\n",
    "a = np.array([[1,2,3,4], [5,6,7,8], [9,10,11,12]])\n",
    "print(\"A mass:\", a)\n",
    "col_r1 = a[:, 1]\n",
    "col_r2 = a[:, 1:2]\n",
    "print(\"col_r1, col_r1.shape: \\n\", col_r1, col_r1.shape)\n",
    "print()\n",
    "print(\"col_r2, col_r2.shape: \\n\",col_r2, col_r2.shape)"
   ]
  },
  {
   "cell_type": "markdown",
   "metadata": {},
   "source": [
    "##### <font color=green>Ответ</font>\n",
    "col_r1 = a[:, 1] - берем второй элемент из всех строк исходного массива. \":\" - выбрать все элементы данного измерения массива\n",
    "\n",
    "col_r2 = a[:, 1:2] - берем С первого ПО второй элемент из всех строк исходного массива.\n",
    "\n",
    "Функция Shape позволяет узнать форму массива."
   ]
  },
  {
   "cell_type": "markdown",
   "metadata": {},
   "source": [
    "##### <font color=red>Задание</font>\n",
    "Создать массив случайных целочисленных значений (от -100 до 100) размером 8x8. Используя индексацию булевыми массивами получить:\n",
    "1. Все элементы, значения которых являются четными числами. Вывести их маску в массиве.\n",
    "2. Все элементы, значения которых попадают в диапазон от 10 до 50. Вывести их маску в массиве.\n",
    "3. Все элементы, значения которых являются четными числами и попадают в диапазон от 10 до 50. Вывести их маску в массиве.\n",
    "4. Все элементы, значения которых являются нечетными числами и модуль значения которых из диапазона от 10 до 50. Вывести их маску в массиве.\n",
    "5. Все элементы, значения которых являются нечетными числами или отрицательными."
   ]
  },
  {
   "cell_type": "code",
   "execution_count": null,
   "metadata": {},
   "outputs": [],
   "source": []
  }
 ],
 "metadata": {
  "kernelspec": {
   "display_name": "Python 3",
   "language": "python",
   "name": "python3"
  },
  "language_info": {
   "codemirror_mode": {
    "name": "ipython",
    "version": 3
   },
   "file_extension": ".py",
   "mimetype": "text/x-python",
   "name": "python",
   "nbconvert_exporter": "python",
   "pygments_lexer": "ipython3",
   "version": "3.6.5"
  }
 },
 "nbformat": 4,
 "nbformat_minor": 2
}
