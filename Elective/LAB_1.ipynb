{
 "cells": [
  {
   "cell_type": "markdown",
   "metadata": {},
   "source": [
    "# Программирование Python\n",
    "\n",
    "## \"Обработка многомерных массивов в библиотеке NumPy с использованием IPython\""
   ]
  },
  {
   "cell_type": "markdown",
   "metadata": {},
   "source": [
    "Выполнил студент Мурсалимов Акмаль Тимурович группы ИС/м-20-1-о."
   ]
  },
  {
   "cell_type": "code",
   "execution_count": 1,
   "metadata": {},
   "outputs": [],
   "source": [
    "import numpy as np\n",
    "from tabulate import tabulate\n",
    "import pandas as pd"
   ]
  },
  {
   "cell_type": "markdown",
   "metadata": {},
   "source": [
    "##### <font color='red'>Задание</font>\n",
    "\n",
    "Создать класс, реализующий функционал учета рейтинга студентов **StudentsRaiting**. Класс должен иметь конструктор, который будет принимать список студентов с результатами сданных экзаменов, реализованый в виде словаря с ключем \"ФИО студента\" и оценками по экзаменам по 4 предметам (Программирование, Дискретная математика, Иностранный язык, Философия), представленными в виде упорядоченного множества (кортежа). Например:\n",
    "\n",
    "`{\"Иванов Петр Николавич\":(3,3,5,4), \"Петров Иван Константинович\":(5,4,5,4)}`\n",
    "\n",
    "Релизовать методы: \n",
    "- добавления студента с оценками по экзаменам\n",
    "- удаления студента из рейтинга \n",
    "- получения списка студентов с рейтингом выше порогового\n",
    "- метод демонстрации работы методов класса с выводом результатов на печать в виде текстовой таблицы.\n",
    "\n",
    "Примечание:\n",
    "Рейтинг составляется по суммарному баллу по всем предметам."
   ]
  },
  {
   "cell_type": "code",
   "execution_count": 2,
   "metadata": {},
   "outputs": [
    {
     "name": "stdout",
     "output_type": "stream",
     "text": [
      "Initializing new journal:\n",
      "+----+----------------------------+--------------+\n",
      "|    | Student                    | Marks        |\n",
      "|----+----------------------------+--------------|\n",
      "|  0 | Иванов Петр Николавич      | (3, 3, 5, 4) |\n",
      "|  1 | Петров Иван Константинович | (5, 4, 5, 4) |\n",
      "|  2 | Иванов Иван Константинович | (4, 5, 3, 5) |\n",
      "|  3 | Петров Петр Николавич      | (4, 4, 3, 4) |\n",
      "+----+----------------------------+--------------+\n",
      "\n",
      "\n",
      "\n",
      "\n",
      "Adding new students:\n",
      "+----+----------------------------+--------------+\n",
      "|    | Student                    | Marks        |\n",
      "|----+----------------------------+--------------|\n",
      "|  0 | Иванов Петр Николавич      | (3, 3, 5, 4) |\n",
      "|  1 | Петров Иван Константинович | (5, 4, 5, 4) |\n",
      "|  2 | Иванов Иван Константинович | (4, 5, 3, 5) |\n",
      "|  3 | Петров Петр Николавич      | (4, 4, 3, 4) |\n",
      "|  4 | Аааа ААА Аааааа            | (5, 5, 5, 5) |\n",
      "|  5 | BBB bbb BBBBbbbb           | (2, 3, 2, 2) |\n",
      "+----+----------------------------+--------------+\n",
      "\n",
      "\n",
      "\n",
      "\n",
      "Removing student by name:\n",
      "+----+----------------------------+--------------+\n",
      "|    | Student                    | Marks        |\n",
      "|----+----------------------------+--------------|\n",
      "|  0 | Иванов Петр Николавич      | (3, 3, 5, 4) |\n",
      "|  1 | Петров Иван Константинович | (5, 4, 5, 4) |\n",
      "|  2 | Иванов Иван Константинович | (4, 5, 3, 5) |\n",
      "|  3 | Петров Петр Николавич      | (4, 4, 3, 4) |\n",
      "|  4 | BBB bbb BBBBbbbb           | (2, 3, 2, 2) |\n",
      "+----+----------------------------+--------------+\n",
      "\n",
      "\n",
      "\n",
      "\n",
      "Getting students with good rating (more than 15):\n",
      "+----+----------------------------+--------------+\n",
      "|    | Student                    | Marks        |\n",
      "|----+----------------------------+--------------|\n",
      "|  0 | Иванов Петр Николавич      | (3, 3, 5, 4) |\n",
      "|  1 | Петров Иван Константинович | (5, 4, 5, 4) |\n",
      "|  2 | Иванов Иван Константинович | (4, 5, 3, 5) |\n",
      "|  3 | Петров Петр Николавич      | (4, 4, 3, 4) |\n",
      "+----+----------------------------+--------------+\n"
     ]
    }
   ],
   "source": [
    "class StudentsRaiting:    \n",
    "\n",
    "    # Constructor\n",
    "    def __init__(self, students):\n",
    "        self.students = students  \n",
    " \n",
    "\n",
    "    def printStudents(self, data = None):\n",
    "        if data == None: \n",
    "            data = self.students\n",
    "        df = pd.DataFrame({'Student' : list(data.keys()),\n",
    "                       'Marks' : list(data.values())})\n",
    "        print(tabulate(df, headers='keys', tablefmt='psql'))\n",
    "   \n",
    "    def show(self):\n",
    "        print(self.students)\n",
    "        \n",
    "    def addStud(self,student):\n",
    "        if type(student) is dict:\n",
    "            self.students.update(student)\n",
    "        \n",
    "    def delStud(self,student):\n",
    "        self.students.pop(student,None)\n",
    "        \n",
    "    def getStudsWithRating(self,rating):\n",
    "        if type(rating) is not int: \n",
    "            return None\n",
    "        result = {}\n",
    "        for a,b in self.students.items():\n",
    "            if sum(b)>=rating:\n",
    "                result.update({a:b})\n",
    "        self.printStudents(result)\n",
    "        \n",
    "       \n",
    "\n",
    "print(\"Initializing new journal:\")\n",
    "\n",
    "journal = StudentsRaiting({\"Иванов Петр Николавич\":(3,3,5,4),\n",
    "                     \"Петров Иван Константинович\":(5,4,5,4),\n",
    "                     \"Иванов Иван Константинович\":(4,5,3,5),\n",
    "                     \"Петров Петр Николавич\":(4,4,3,4)})  \n",
    "\n",
    "journal.printStudents() \n",
    "\n",
    "\n",
    "\n",
    "print(\"\\n\\n\\n\")\n",
    "\n",
    "print(\"Adding new students:\")\n",
    "\n",
    "journal.addStud({\"Аааа ААА Аааааа\":(5,5,5,5),\n",
    "                 \"BBB bbb BBBBbbbb\":(2,3,2,2)})\n",
    "\n",
    "journal.printStudents() \n",
    "\n",
    "\n",
    "\n",
    "print(\"\\n\\n\\n\")\n",
    "\n",
    "print(\"Removing student by name:\")\n",
    "\n",
    "journal.delStud(\"Аааа ААА Аааааа\")\n",
    "\n",
    "journal.printStudents() \n",
    "\n",
    "\n",
    "print(\"\\n\\n\\n\")\n",
    "\n",
    "print(\"Getting students with good rating (more than 15):\")\n",
    "\n",
    "journal.getStudsWithRating(15)\n",
    "\n",
    "\n",
    "\n",
    "\n",
    "\n",
    "\n"
   ]
  },
  {
   "cell_type": "markdown",
   "metadata": {},
   "source": [
    "##### <font color=red>Задание</font>\n",
    "Создать массив значений типа `int32` размером 10х10, состоящий из равномерно распределенных случайных чисел от 0 до 100. Получить 4 копии этого массива со значениями типа `uint32`,`int64`,`uint64`,`float`. Для каждого массива вывести сведения: число размерностей, форма, размер, тип данных, размер каждого значения в байтах и размер всего массива в байтах.\n"
   ]
  },
  {
   "cell_type": "code",
   "execution_count": 3,
   "metadata": {},
   "outputs": [
    {
     "name": "stdout",
     "output_type": "stream",
     "text": [
      "+----+---------+---------+--------------+----------+--------+---------------------+-----------------+\n",
      "|    | Name    | Type    |   Dimensions | Shape    |   Size |   ItemWeight(Bytes) |   Weight(Bytes) |\n",
      "|----+---------+---------+--------------+----------+--------+---------------------+-----------------|\n",
      "|  0 | Main    | int32   |            2 | (10, 10) |    100 |                   4 |             400 |\n",
      "|  1 | Copy №1 | uint32  |            2 | (10, 10) |    100 |                   4 |             400 |\n",
      "|  2 | Copy №2 | int64   |            2 | (10, 10) |    100 |                   8 |             800 |\n",
      "|  3 | Copy №3 | uint64  |            2 | (10, 10) |    100 |                   8 |             800 |\n",
      "|  4 | Copy №4 | float64 |            2 | (10, 10) |    100 |                   8 |             800 |\n",
      "+----+---------+---------+--------------+----------+--------+---------------------+-----------------+\n"
     ]
    }
   ],
   "source": [
    "massives = ([np.random.randint(100, size=(10, 10))])\n",
    "\n",
    "massives.extend([np.array(massives[0], dtype=np.uint32),\n",
    "             np.array(massives[0], dtype=np.int64),\n",
    "             np.array(massives[0], dtype=np.uint64),\n",
    "             np.array(massives[0], dtype=np.float)])\n",
    "\n",
    "df = pd.DataFrame({'Name' : [\"Main\",\"Copy №1\",\"Copy №2\",\"Copy №3\",\"Copy №4\",],\n",
    "                   'Type' : list(map(lambda s: s.dtype, massives)),\n",
    "                   'Dimensions' : list(map(lambda s: s.ndim, massives)),\n",
    "                   'Shape' : list(map(lambda s: s.shape, massives)),\n",
    "                   'Size' : list(map(lambda s: s.size, massives)),\n",
    "                   'ItemWeight(Bytes)' : list(map(lambda s: s.itemsize, massives)),\n",
    "                   'Weight(Bytes)' : list(map(lambda s: s.nbytes, massives))})\n",
    "print(tabulate(df, headers='keys', tablefmt='psql'))"
   ]
  },
  {
   "cell_type": "markdown",
   "metadata": {},
   "source": [
    "##### <font color=red>Задание</font>\n",
    "Выполнить следующий код и объяснить результат."
   ]
  },
  {
   "cell_type": "code",
   "execution_count": 4,
   "metadata": {},
   "outputs": [
    {
     "name": "stdout",
     "output_type": "stream",
     "text": [
      "A mass: [[ 1  2  3  4]\n",
      " [ 5  6  7  8]\n",
      " [ 9 10 11 12]]\n",
      "col_r1, col_r1.shape: \n",
      " [ 2  6 10] (3,)\n",
      "\n",
      "col_r2, col_r2.shape: \n",
      " [[ 2]\n",
      " [ 6]\n",
      " [10]] (3, 1)\n"
     ]
    }
   ],
   "source": [
    "# Create the following rank 2 array with shape (3, 4)\n",
    "a = np.array([[1,2,3,4], [5,6,7,8], [9,10,11,12]])\n",
    "print(\"A mass:\", a)\n",
    "col_r1 = a[:, 1]\n",
    "col_r2 = a[:, 1:2]\n",
    "print(\"col_r1, col_r1.shape: \\n\", col_r1, col_r1.shape)\n",
    "print()\n",
    "print(\"col_r2, col_r2.shape: \\n\",col_r2, col_r2.shape)"
   ]
  },
  {
   "cell_type": "markdown",
   "metadata": {},
   "source": [
    "##### <font color=green>Ответ</font>\n",
    "col_r1 = a[:, 1] - берем второй элемент из всех строк исходного массива. \":\" - выбрать все элементы данного измерения массива\n",
    "\n",
    "col_r2 = a[:, 1:2] - берем С первого ПО второй элемент из всех строк исходного массива.\n",
    "\n",
    "Функция Shape позволяет узнать форму массива."
   ]
  },
  {
   "cell_type": "markdown",
   "metadata": {},
   "source": [
    "##### <font color=red>Задание</font>\n",
    "Создать массив случайных целочисленных значений (от -100 до 100) размером 8x8. Используя индексацию булевыми массивами получить:\n",
    "1. Все элементы, значения которых являются четными числами. Вывести их маску в массиве.\n",
    "2. Все элементы, значения которых попадают в диапазон от 10 до 50. Вывести их маску в массиве.\n",
    "3. Все элементы, значения которых являются четными числами и попадают в диапазон от 10 до 50. Вывести их маску в массиве.\n",
    "4. Все элементы, значения которых являются нечетными числами и модуль значения которых из диапазона от 10 до 50. Вывести их маску в массиве.\n",
    "5. Все элементы, значения которых являются нечетными числами или отрицательными."
   ]
  },
  {
   "cell_type": "code",
   "execution_count": 5,
   "metadata": {},
   "outputs": [
    {
     "name": "stdout",
     "output_type": "stream",
     "text": [
      "main_mass\n",
      " [[-86  95 -64 -75   3  42 -35 -94]\n",
      " [ 30  13 -57 -46  26 -14  85  52]\n",
      " [ 40 -75 -39 -66  33  78 -96  33]\n",
      " [-77  14  93  93 -77  45  97  55]\n",
      " [ 70  30 -94  51 -58  85  84  57]\n",
      " [-14  62 -11  95  64 -52  86  16]\n",
      " [ 73  58  16  88 -86 -56 -31  29]\n",
      " [ 17   8  53  85 -39  -2 -27 -49]]\n",
      "\n",
      "\n",
      "\n",
      "Task №1:\n",
      "Все элементы, значения которых являются четными числами:\n",
      " [-86 -64  42 -94  30 -46  26 -14  52  40 -66  78 -96  14  70  30 -94 -58\n",
      "  84 -14  62  64 -52  86  16  58  16  88 -86 -56   8  -2]\n",
      "\n",
      "\n",
      "Маска:\n",
      " [[ True False  True False False  True False  True]\n",
      " [ True False False  True  True  True False  True]\n",
      " [ True False False  True False  True  True False]\n",
      " [False  True False False False False False False]\n",
      " [ True  True  True False  True False  True False]\n",
      " [ True  True False False  True  True  True  True]\n",
      " [False  True  True  True  True  True False False]\n",
      " [False  True False False False  True False False]]\n",
      "\n",
      "\n",
      "\n",
      "Task №2:\n",
      "Все элементы, значения которых попадают в диапазон от 10 до 50:\n",
      " [42 30 13 26 40 33 33 14 45 30 16 16 29 17]\n",
      "\n",
      "\n",
      "Маска:\n",
      " [[False False False False False  True False False]\n",
      " [ True  True False False  True False False False]\n",
      " [ True False False False  True False False  True]\n",
      " [False  True False False False  True False False]\n",
      " [False  True False False False False False False]\n",
      " [False False False False False False False  True]\n",
      " [False False  True False False False False  True]\n",
      " [ True False False False False False False False]]\n",
      "\n",
      "\n",
      "\n",
      "Task №3:\n",
      "Все элементы, значения которых являются четными числами и попадают в диапазон от 10 до 50:\n",
      " [42 30 26 40 14 30 16 16]\n",
      "\n",
      "\n",
      "Маска:\n",
      " [[False False False False False  True False False]\n",
      " [ True False False False  True False False False]\n",
      " [ True False False False False False False False]\n",
      " [False  True False False False False False False]\n",
      " [False  True False False False False False False]\n",
      " [False False False False False False False  True]\n",
      " [False False  True False False False False False]\n",
      " [False False False False False False False False]]\n",
      "\n",
      "\n",
      "\n",
      "Task №4:\n",
      "Все элементы, значения которых являются нечетными числами  и модуль значения которых из диапазона от 10 до 50:\n",
      " [-35  13 -39  33  33  45 -11 -31  29  17 -39 -27 -49]\n",
      "\n",
      "\n",
      "Маска:\n",
      " [[False False False False False False  True False]\n",
      " [False  True False False False False False False]\n",
      " [False False  True False  True False False  True]\n",
      " [False False False False False  True False False]\n",
      " [False False False False False False False False]\n",
      " [False False  True False False False False False]\n",
      " [False False False False False False  True  True]\n",
      " [ True False False False  True False  True  True]]\n",
      "\n",
      "\n",
      "\n",
      "Task №5:\n",
      "Все элементы, значения которых являются нечетными числами или отрицательными:\n",
      " [-86  95 -64 -75   3 -35 -94  13 -57 -46 -14  85 -75 -39 -66  33 -96  33\n",
      " -77  93  93 -77  45  97  55 -94  51 -58  85  57 -14 -11  95 -52  73 -86\n",
      " -56 -31  29  17  53  85 -39  -2 -27 -49]\n",
      "\n",
      "\n",
      "Маска:\n",
      " [[ True  True  True  True  True False  True  True]\n",
      " [False  True  True  True False  True  True False]\n",
      " [False  True  True  True  True False  True  True]\n",
      " [ True False  True  True  True  True  True  True]\n",
      " [False False  True  True  True  True False  True]\n",
      " [ True False  True  True False  True False False]\n",
      " [ True False False False  True  True  True  True]\n",
      " [ True False  True  True  True  True  True  True]]\n"
     ]
    }
   ],
   "source": [
    "\n",
    "\n",
    "main_mass = np.random.randint(-100, 100, size=(8, 8))\n",
    "print('main_mass\\n',main_mass)\n",
    "\n",
    "print(\"\\n\\n\\nTask №1:\\nВсе элементы, значения которых являются четными числами:\\n\",\n",
    "      main_mass[main_mass%2==0])\n",
    "print(\"\\n\\nМаска:\\n\",(main_mass%2==0))\n",
    "\n",
    "\n",
    "print(\"\\n\\n\\nTask №2:\\nВсе элементы, значения которых попадают в диапазон от 10 до 50:\\n\",\n",
    "      main_mass[(main_mass >=10 )&(main_mass <=50 )])\n",
    "print(\"\\n\\nМаска:\\n\",((main_mass >=10 )&(main_mass <=50 )))\n",
    "\n",
    "print(\"\\n\\n\\nTask №3:\\nВсе элементы, значения которых являются четными числами и попадают в диапазон от 10 до 50:\\n\",\n",
    "      main_mass[(main_mass%2==0)&(main_mass >=10 )&(main_mass <=50 )])\n",
    "print(\"\\n\\nМаска:\\n\",((main_mass%2==0)&(main_mass >=10 )&(main_mass <=50 )))\n",
    "\n",
    "print(\"\\n\\n\\nTask №4:\\nВсе элементы, значения которых являются нечетными числами\",\n",
    "      \" и модуль значения которых из диапазона от 10 до 50:\\n\",\n",
    "      main_mass[(main_mass%2!=0)&(abs(main_mass) >=10 )&(abs(main_mass) <=50 )])\n",
    "print(\"\\n\\nМаска:\\n\",((main_mass%2!=0)&(abs(main_mass) >=10 )&(abs(main_mass) <=50 )))\n",
    "\n",
    "\n",
    "print(\"\\n\\n\\nTask №5:\\nВсе элементы, значения которых являются нечетными числами или отрицательными:\\n\",\n",
    "      main_mass[(main_mass%2!=0)|(main_mass <0 )])\n",
    "print(\"\\n\\nМаска:\\n\",((main_mass%2!=0)|(main_mass <0 )))"
   ]
  },
  {
   "cell_type": "markdown",
   "metadata": {},
   "source": [
    "##### <font color=red>Задание</font>\n",
    "Написать функцию, которая из исходного массива размером 8х8 получает (при помощи операций разбиения и объединения) массив, в котором переставлены квадранты 1-й с 3-м, 2-й с 4-м по сравнению с исходным массивом. Продемонстрировать работу функции все шаги алгоритма сопроводить подробными комментариями и отладочным выводом промежуточных результатов.\n",
    "\n",
    "Т.е. например из массива\n",
    "\n",
    "`[[49  5 49  1 28 27 31 35]\n",
    " [21 12 34  3 20  2 42 48]\n",
    " [21 22 39 23 28 31 47 34]\n",
    " [37  6 24 22 19 32 27 20]\n",
    " [12  0  1 40  2 30 42 47]\n",
    " [33 40 10  8 29 48 24  8]\n",
    " [14 49  8 46 23 18 10 49]\n",
    " [15 20 49 30  9 18 42  5]]`\n",
    " \n",
    "должен получиться массив \n",
    "\n",
    " `[[ 2 30 42 47 12  0  1 40]\n",
    " [29 48 24  8 33 40 10  8]\n",
    " [23 18 10 49 14 49  8 46]\n",
    " [ 9 18 42  5 15 20 49 30]\n",
    " [28 27 31 35 49  5 49  1]\n",
    " [20  2 42 48 21 12 34  3]\n",
    " [28 31 47 34 21 22 39 23]\n",
    " [19 32 27 20 37  6 24 22]]`"
   ]
  },
  {
   "cell_type": "code",
   "execution_count": 6,
   "metadata": {},
   "outputs": [
    {
     "name": "stdout",
     "output_type": "stream",
     "text": [
      "Input massive:\n",
      " [[49  5 49  1 28 27 31 35]\n",
      " [21 12 34  3 20  2 42 48]\n",
      " [21 22 39 23 28 31 47 34]\n",
      " [37  6 24 22 19 32 27 20]\n",
      " [12  0  1 40  2 30 42 47]\n",
      " [33 40 10  8 29 48 24  8]\n",
      " [14 49  8 46 23 18 10 49]\n",
      " [15 20 49 30  9 18 42  5]]\n",
      "\n",
      "\n",
      "\n",
      "RESULT:\n",
      " [[ 2 30 42 47 12  0  1 40]\n",
      " [29 48 24  8 33 40 10  8]\n",
      " [23 18 10 49 14 49  8 46]\n",
      " [ 9 18 42  5 15 20 49 30]\n",
      " [28 27 31 35 49  5 49  1]\n",
      " [20  2 42 48 21 12 34  3]\n",
      " [28 31 47 34 21 22 39 23]\n",
      " [19 32 27 20 37  6 24 22]]\n"
     ]
    }
   ],
   "source": [
    "def replace_squares(mass,mid=False):\n",
    "    if list(mass.shape)[0]%2!=0 or list(mass.shape)[1]%2!=0:\n",
    "        return None    \n",
    "    sh = [list(mass.shape)[0]//2,list(mass.shape)[1]//2]    \n",
    "    res = mass.copy()\n",
    "    squares = (mass[:sh[0],:sh[1]],\n",
    "              mass[sh[0]:,:sh[1]],\n",
    "              mass[:sh[0],sh[1]:],\n",
    "              mass[sh[0]:,sh[1]:])\n",
    "    if mid:\n",
    "        middle_results = list(squares)\n",
    "        print(\"\\n\\nMiddle results:\\n\\nFirst square: \\n\",middle_results[0],\n",
    "              \"\\nSecond square: \\n\",middle_results[1],\n",
    "              \"\\nThird square: \\n\",middle_results[2],\n",
    "              \"\\nFourth square: \\n\",middle_results[3])\n",
    "    res[sh[0]:,sh[1]:],res[:sh[0],sh[1]:],res[sh[0]:,:sh[1]],res[:sh[0],:sh[1]]=squares\n",
    "    return res\n",
    "    \n",
    "    \n",
    "#massive = np.random.randint(-5, 5, size=(8,8))\n",
    "massive = np.array([[49,  5, 49,  1, 28, 27, 31, 35],\n",
    "                    [21, 12, 34,  3, 20,  2, 42, 48],\n",
    "                    [21, 22, 39, 23, 28, 31, 47, 34],\n",
    "                    [37,  6, 24, 22, 19, 32, 27, 20],\n",
    "                    [12,  0,  1, 40,  2, 30, 42, 47],\n",
    "                    [33, 40, 10,  8, 29, 48, 24,  8],\n",
    "                    [14, 49,  8, 46, 23, 18, 10, 49],\n",
    "                    [15, 20, 49, 30,  9, 18, 42,  5]])\n",
    "print(\"Input massive:\\n\", massive)\n",
    "#if middle results are in need, add True\n",
    "#massive = replace_squares(massive,True)\n",
    "massive = replace_squares(massive)\n",
    "print(\"\\n\\n\\nRESULT:\\n\",massive)"
   ]
  },
  {
   "cell_type": "code",
   "execution_count": 7,
   "metadata": {},
   "outputs": [
    {
     "name": "stdout",
     "output_type": "stream",
     "text": [
      "Проверка практичным методом: \n",
      "(100, 100, 4)  +  (3,)  Выбрасывает исключение\n",
      "(15, 1, 6, 5)  +  (7, 1, 5)  = RESULT.shape (15, 7, 6, 5)\n",
      "(12, 3, 8)  +  (3, 1)  = RESULT.shape (12, 3, 8)\n",
      "(10, 4, 1, 6)  +  (3, 1, 6)  Выбрасывает исключение\n",
      "(10, 1)  +  (1, 10, 3)  = RESULT.shape (1, 10, 3)\n",
      "Результаты, которые не выбросили исключение, при не совпадении размерности дополнялись единицами слева.\n",
      " Затем все единицы приводились к соответствующей размерности в суммируемых массивах.\n",
      " Исключения были выброшены в тех случаях, когда размерности измерений не совпадали и не являлись единицами.\n"
     ]
    }
   ],
   "source": [
    "def translation_check(A,B):\n",
    "    try:\n",
    "        RESULT=A+B\n",
    "    except:\n",
    "        print(A.shape,\" + \",B.shape,\" Выбрасывает исключение\")\n",
    "    else:\n",
    "        print(A.shape,\" + \",B.shape,\" = RESULT.shape\",RESULT.shape)\n",
    "        \n",
    "print(\"Проверка практичным методом: \")\n",
    "translation_check(np.ones((100,100,4)), np.ones(3))\n",
    "translation_check(np.ones((15,1,6,5)), np.ones((7,1,5)))\n",
    "translation_check(np.ones((12,3,8)), np.ones((3,1)))\n",
    "translation_check(np.ones((10,4,1,6)), np.ones((3,1,6)))\n",
    "translation_check(np.ones((10,1)), np.ones((1,10,3)))\n",
    "print(\"Результаты, которые не выбросили исключение, при не совпадении размерности дополнялись единицами слева.\\n\",\n",
    "      \"Затем все единицы приводились к соответствующей размерности в суммируемых массивах.\\n\",\n",
    "      \"Исключения были выброшены в тех случаях, когда размерности измерений не совпадали и не являлись единицами.\")"
   ]
  },
  {
   "cell_type": "markdown",
   "metadata": {},
   "source": [
    "##### <font color=red>Задание</font>\n",
    "Создать класс наследник от класса учета рейтинга студентов (**StudentsRaiting**) и расширить его методами рассчета статистики по предметам (средний балл, максимальный балл, минимальный балл). Для этого нужно преобразовать данные об оценках из словаря в массив и использовать функции библиотеки Numpy.\n",
    "(Программирование, Дискретная математика, Иностранный язык, Философия)\n",
    "\n",
    "Примечание: Использовать универсальные функции для работы с массивами numpy."
   ]
  },
  {
   "cell_type": "code",
   "execution_count": 8,
   "metadata": {},
   "outputs": [
    {
     "name": "stdout",
     "output_type": "stream",
     "text": [
      "+----+----------------------------+--------------+\n",
      "|    | Student                    | Marks        |\n",
      "|----+----------------------------+--------------|\n",
      "|  0 | Иванов Петр Николавич      | (3, 3, 5, 4) |\n",
      "|  1 | Петров Иван Константинович | (5, 4, 5, 4) |\n",
      "|  2 | Иванов Иван Константинович | (4, 5, 3, 5) |\n",
      "|  3 | Петров Петр Николавич      | (4, 4, 3, 4) |\n",
      "+----+----------------------------+--------------+\n",
      "\n",
      "\n",
      "\n",
      "Статистика по предметам:\n",
      "+----+--------------------+--------+--------------+\n",
      "|    | Программирование   |   Балл |   Количество |\n",
      "|----+--------------------+--------+--------------|\n",
      "|  0 | Минимальный балл:  |      3 |            1 |\n",
      "|  1 | Средний балл:      |      4 |            2 |\n",
      "|  2 | Максимальный балл: |      5 |            1 |\n",
      "+----+--------------------+--------+--------------+\n",
      "+----+-------------------------+--------+--------------+\n",
      "|    | Дискретная математика   |   Балл |   Количество |\n",
      "|----+-------------------------+--------+--------------|\n",
      "|  0 | Минимальный балл:       |      3 |            1 |\n",
      "|  1 | Средний балл:           |      4 |            2 |\n",
      "|  2 | Максимальный балл:      |      5 |            1 |\n",
      "+----+-------------------------+--------+--------------+\n",
      "+----+--------------------+--------+--------------+\n",
      "|    | Иностранный язык   |   Балл |   Количество |\n",
      "|----+--------------------+--------+--------------|\n",
      "|  0 | Минимальный балл:  |      3 |            2 |\n",
      "|  1 | Средний балл:      |      4 |            0 |\n",
      "|  2 | Максимальный балл: |      5 |            2 |\n",
      "+----+--------------------+--------+--------------+\n",
      "+----+--------------------+--------+--------------+\n",
      "|    | Философия          |   Балл |   Количество |\n",
      "|----+--------------------+--------+--------------|\n",
      "|  0 | Минимальный балл:  |      4 |            3 |\n",
      "|  1 | Средний балл:      |      4 |            3 |\n",
      "|  2 | Максимальный балл: |      5 |            1 |\n",
      "+----+--------------------+--------+--------------+\n"
     ]
    }
   ],
   "source": [
    "class StudentsRaitingExtanded(StudentsRaiting):\n",
    "    \n",
    "    def __init__(self, students):\n",
    "        StudentsRaiting.__init__(self,students)\n",
    "        \n",
    "    def __printSubjectStatistics__(self,name,subjects,marks,counts):\n",
    "        df = pd.DataFrame({name : subjects,\n",
    "                       'Балл' : marks,\n",
    "                       'Количество' : counts})\n",
    "        print(tabulate(df, headers='keys', tablefmt='psql'))\n",
    "        \n",
    "    def showStatistics(self):\n",
    "        subjNames=[\"Программирование\", \"Дискретная математика\", \"Иностранный язык\", \"Философия\"]\n",
    "        marks = [\"Минимальный балл: \",\"Средний балл: \",\"Максимальный балл: \"]\n",
    "        source = np.array(list(self.students.values()),dtype=np.float)\n",
    "        statistics = np.array([np.amin(source,0),np.round(np.average(source,0)),np.amax(source,0)])\n",
    "        print(\"Статистика по предметам:\")\n",
    "        for i in range(4):\n",
    "            self.__printSubjectStatistics__(subjNames[i],marks,statistics[0:3,i],\n",
    "                                       list(map(lambda s: list(source[:,i]).count(s), statistics[0:3,i])))\n",
    "        \n",
    "journalExtanded = StudentsRaitingExtanded({\"Иванов Петр Николавич\":(3,3,5,4),\n",
    "                                           \"Петров Иван Константинович\":(5,4,5,4),\n",
    "                                           \"Иванов Иван Константинович\":(4,5,3,5),\n",
    "                                           \"Петров Петр Николавич\":(4,4,3,4)})  \n",
    "journalExtanded.printStudents()\n",
    "print('\\n\\n')\n",
    "journalExtanded.showStatistics()"
   ]
  },
  {
   "cell_type": "markdown",
   "metadata": {},
   "source": [
    "##### <font color=red>Задание</font>\n",
    "0. Создать функцию `Function1(x)`, возвращающую вектор `y`, размер которого равен размеру вектора `x` и выполняющую поэлементное вычисление по формуле `y=1/(1+exp(-x)`. Создать функцию `Function2(x)`, возвращающую вектор `y`, размер которого равен размеру вектора `x` и выполняющую поэлементное вычисление по формуле `y=max(0,x)`.\n",
    "1. Написать функцию `LinearTransform(M,x,b)`, где `M` - матрица, `x` - вектор, `b` - число. Функция должна ввозвращать вектор `y`, размер которого равен размеру вектора `x`, где `y` рассчитывается по формуле `y=M*x+b`, здесь под операцией `*` понимается операция скалярного произведения (dot product) матрицы на вектор.\n",
    "2. Написать функцию `Transform(M1,M2,x,b1,b2)`, где `M1`,`M2` - матрицы, `x` - вектор, `b1`,`b2` - числа. Функция должна ввозвращать вектор `y`, размер которого равен размеру вектора `x`, где `y` рассчитывается по формуле `y=Function2(LinearTransform(M2,x2,b2))`, а `x2=Function1(LinearTransform(M1,x,b1))`.\n",
    "3. Задать матрицы M1,M2 размером MxN, вектор размером N, и числа b1,b2 и выполнить вычисления `Transform(M1,M2,x,b1,b2)`, производя замеры времени выполнения функции. **Значения M и N нужно узнать у преподавателя.** \n",
    "\n",
    "Все функции задания нужно реализовать в двух вариантах: \n",
    "* с использованием универсальных векторизованных операций;\n",
    "* с использованием циклов для вычислений.\n",
    "\n",
    "Сравнить время выполнения для обеих реализаций и сделать выводы."
   ]
  },
  {
   "cell_type": "code",
   "execution_count": null,
   "metadata": {},
   "outputs": [],
   "source": [
    "#Ага, здесь реализация, да"
   ]
  },
  {
   "cell_type": "markdown",
   "metadata": {},
   "source": [
    "#### <font color=red>Задание</font>\n",
    "Построить графики функций: $y=\\sin(x)$,$y=\\cos(x)$, $y=tg(x)$, $y=ctg(x)$. \n",
    "Требования к графикам:\n",
    "- все графики в одной системе координат\n",
    "- значения по оси x должны меняться от $-\\pi$ до $\\pi$.\n",
    "- подписи по осям координат \n",
    "- название графика\n",
    "- координатная сетка\n",
    "- легенда."
   ]
  },
  {
   "cell_type": "code",
   "execution_count": null,
   "metadata": {},
   "outputs": [],
   "source": [
    "#Ага, здесь реализация, да"
   ]
  },
  {
   "cell_type": "markdown",
   "metadata": {},
   "source": [
    "#### <font color=red>Задание</font>\n",
    "Построить графики функций: $y=2\\cdot x^2$, $y=-2\\cdot x^2$, $x=2\\cdot y^2$, $x=-2\\cdot y^2$\n",
    "Требования к графикам:\n",
    "- каждый график построить в своей системе координат, разделив лист на 4 равные части 2х2.\n",
    "- значения по осям x и y должны меняться от 5 до 5.\n",
    "- подписи по осям координат \n",
    "- названия графиков\n",
    "- координатная сетка."
   ]
  },
  {
   "cell_type": "code",
   "execution_count": null,
   "metadata": {},
   "outputs": [],
   "source": [
    "#Ага, здесь реализация, да"
   ]
  },
  {
   "cell_type": "markdown",
   "metadata": {},
   "source": [
    "#### <font color=red>Задание</font>\n",
    "Сгенерировать 1000 случайных значений выбранного распределения (вид уточнить у преподавателя) и построить гистограмму частот и гистограмму относительных частот. \n",
    "Требования к графикам:\n",
    "- графики расположить горизонтально\n",
    "- подписи по осям координат \n",
    "- названия графиков."
   ]
  },
  {
   "cell_type": "code",
   "execution_count": null,
   "metadata": {},
   "outputs": [],
   "source": [
    "#Ага, здесь реализация, да"
   ]
  },
  {
   "cell_type": "markdown",
   "metadata": {},
   "source": [
    "#### <font color=red>Задание</font>\n",
    "Повторить крайний пример, изменив вид распределений, используемый для генерации массивов x и y (вид распределений уточнить у преподавателя)."
   ]
  },
  {
   "cell_type": "code",
   "execution_count": null,
   "metadata": {},
   "outputs": [],
   "source": [
    "#Ага, здесь реализация, да"
   ]
  },
  {
   "cell_type": "markdown",
   "metadata": {},
   "source": [
    "#### <font color=red>Задание</font>\n",
    "1. Выбрать произвольное цветное изображение и загрузить в среду IPython.\n",
    "2. Построить гистограммы яркостей для всех трех каналов.\n",
    "3. Используя матричные операции обнулить яркости синего и зеленого каналов в изображении и отобразить его. \n",
    "4. Используя матричные операции обнулить яркости красного канала в изображении и отобразить его."
   ]
  },
  {
   "cell_type": "code",
   "execution_count": null,
   "metadata": {},
   "outputs": [],
   "source": [
    "#Ага, здесь реализация, да"
   ]
  }
 ],
 "metadata": {
  "kernelspec": {
   "display_name": "Python 3",
   "language": "python",
   "name": "python3"
  },
  "language_info": {
   "codemirror_mode": {
    "name": "ipython",
    "version": 3
   },
   "file_extension": ".py",
   "mimetype": "text/x-python",
   "name": "python",
   "nbconvert_exporter": "python",
   "pygments_lexer": "ipython3",
   "version": "3.6.5"
  }
 },
 "nbformat": 4,
 "nbformat_minor": 2
}
